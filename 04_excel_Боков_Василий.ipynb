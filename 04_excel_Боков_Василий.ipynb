{
 "cells": [
  {
   "cell_type": "markdown",
   "metadata": {
    "id": "Tz2yF6KUJzuP"
   },
   "source": [
    "# Работа с Excel"
   ]
  },
  {
   "cell_type": "markdown",
   "metadata": {
    "id": "7masINIUJzuR"
   },
   "source": [
    "Материалы:\n",
    "* Макрушин С.В. Лекция 7: Работа с Excel\n",
    "* https://docs.xlwings.org/en/stable/quickstart.html\n",
    "* https://nbviewer.jupyter.org/github/pybokeh/jupyter_notebooks/blob/master/xlwings/Excel_Formatting.ipynb#search_text\n"
   ]
  },
  {
   "cell_type": "markdown",
   "metadata": {
    "id": "vmAvU0cnJzuS"
   },
   "source": [
    "## Задачи для совместного разбора"
   ]
  },
  {
   "cell_type": "markdown",
   "metadata": {
    "id": "YiQWehVqJzuS"
   },
   "source": [
    "1. На листе \"Рецептура\" файла `себестоимостьА_в1.xlsx` для области \"Пшеничный хлеб\" рассчитать себестоимость всех видов продукции."
   ]
  },
  {
   "cell_type": "code",
   "execution_count": 92,
   "metadata": {
    "colab": {
     "base_uri": "https://localhost:8080/"
    },
    "id": "GgWEg55mLO_6",
    "outputId": "5ce4ea4e-9547-4eb1-a35a-91ab321c8486"
   },
   "outputs": [
    {
     "ename": "KeyError",
     "evalue": "'Вода'",
     "output_type": "error",
     "traceback": [
      "\u001b[1;31m---------------------------------------------------------------------------\u001b[0m",
      "\u001b[1;31mKeyError\u001b[0m                                  Traceback (most recent call last)",
      "\u001b[1;32mC:\\ProgramData\\Anaconda3\\lib\\site-packages\\pandas\\core\\indexes\\base.py\u001b[0m in \u001b[0;36mget_loc\u001b[1;34m(self, key, method, tolerance)\u001b[0m\n\u001b[0;32m   3628\u001b[0m             \u001b[1;32mtry\u001b[0m\u001b[1;33m:\u001b[0m\u001b[1;33m\u001b[0m\u001b[1;33m\u001b[0m\u001b[0m\n\u001b[1;32m-> 3629\u001b[1;33m                 \u001b[1;32mreturn\u001b[0m \u001b[0mself\u001b[0m\u001b[1;33m.\u001b[0m\u001b[0m_engine\u001b[0m\u001b[1;33m.\u001b[0m\u001b[0mget_loc\u001b[0m\u001b[1;33m(\u001b[0m\u001b[0mcasted_key\u001b[0m\u001b[1;33m)\u001b[0m\u001b[1;33m\u001b[0m\u001b[1;33m\u001b[0m\u001b[0m\n\u001b[0m\u001b[0;32m   3630\u001b[0m             \u001b[1;32mexcept\u001b[0m \u001b[0mKeyError\u001b[0m \u001b[1;32mas\u001b[0m \u001b[0merr\u001b[0m\u001b[1;33m:\u001b[0m\u001b[1;33m\u001b[0m\u001b[1;33m\u001b[0m\u001b[0m\n",
      "\u001b[1;32mC:\\ProgramData\\Anaconda3\\lib\\site-packages\\pandas\\_libs\\index.pyx\u001b[0m in \u001b[0;36mpandas._libs.index.IndexEngine.get_loc\u001b[1;34m()\u001b[0m\n",
      "\u001b[1;32mC:\\ProgramData\\Anaconda3\\lib\\site-packages\\pandas\\_libs\\index.pyx\u001b[0m in \u001b[0;36mpandas._libs.index.IndexEngine.get_loc\u001b[1;34m()\u001b[0m\n",
      "\u001b[1;32mpandas\\_libs\\hashtable_class_helper.pxi\u001b[0m in \u001b[0;36mpandas._libs.hashtable.PyObjectHashTable.get_item\u001b[1;34m()\u001b[0m\n",
      "\u001b[1;32mpandas\\_libs\\hashtable_class_helper.pxi\u001b[0m in \u001b[0;36mpandas._libs.hashtable.PyObjectHashTable.get_item\u001b[1;34m()\u001b[0m\n",
      "\u001b[1;31mKeyError\u001b[0m: 'Вода'",
      "\nThe above exception was the direct cause of the following exception:\n",
      "\u001b[1;31mKeyError\u001b[0m                                  Traceback (most recent call last)",
      "\u001b[1;32m~\\AppData\\Local\\Temp\\ipykernel_9720\\774286962.py\u001b[0m in \u001b[0;36m<module>\u001b[1;34m\u001b[0m\n\u001b[0;32m      6\u001b[0m \u001b[1;31m# Рассчет себестоимости для каждого вида продукции\u001b[0m\u001b[1;33m\u001b[0m\u001b[1;33m\u001b[0m\u001b[0m\n\u001b[0;32m      7\u001b[0m df['Себестоимость'] = (\n\u001b[1;32m----> 8\u001b[1;33m     \u001b[0mdf\u001b[0m\u001b[1;33m[\u001b[0m\u001b[1;34m'Вода'\u001b[0m\u001b[1;33m]\u001b[0m \u001b[1;33m*\u001b[0m \u001b[0mdf\u001b[0m\u001b[1;33m[\u001b[0m\u001b[1;34m'Цена ресурсов, руб.'\u001b[0m\u001b[1;33m]\u001b[0m\u001b[1;33m[\u001b[0m\u001b[1;36m0\u001b[0m\u001b[1;33m]\u001b[0m \u001b[1;33m*\u001b[0m \u001b[0mdf\u001b[0m\u001b[1;33m[\u001b[0m\u001b[1;34m'Вес, кг.'\u001b[0m\u001b[1;33m]\u001b[0m \u001b[1;33m+\u001b[0m\u001b[1;33m\u001b[0m\u001b[1;33m\u001b[0m\u001b[0m\n\u001b[0m\u001b[0;32m      9\u001b[0m     \u001b[0mdf\u001b[0m\u001b[1;33m[\u001b[0m\u001b[1;34m'Пшеничная мука'\u001b[0m\u001b[1;33m]\u001b[0m \u001b[1;33m*\u001b[0m \u001b[0mdf\u001b[0m\u001b[1;33m[\u001b[0m\u001b[1;34m'Цена ресурсов, руб.'\u001b[0m\u001b[1;33m]\u001b[0m\u001b[1;33m[\u001b[0m\u001b[1;36m1\u001b[0m\u001b[1;33m]\u001b[0m \u001b[1;33m*\u001b[0m \u001b[0mdf\u001b[0m\u001b[1;33m[\u001b[0m\u001b[1;34m'Вес, кг.'\u001b[0m\u001b[1;33m]\u001b[0m \u001b[1;33m+\u001b[0m\u001b[1;33m\u001b[0m\u001b[1;33m\u001b[0m\u001b[0m\n\u001b[0;32m     10\u001b[0m     \u001b[0mdf\u001b[0m\u001b[1;33m[\u001b[0m\u001b[1;34m'Дрожжи'\u001b[0m\u001b[1;33m]\u001b[0m \u001b[1;33m*\u001b[0m \u001b[0mdf\u001b[0m\u001b[1;33m[\u001b[0m\u001b[1;34m'Цена ресурсов, руб.'\u001b[0m\u001b[1;33m]\u001b[0m\u001b[1;33m[\u001b[0m\u001b[1;36m2\u001b[0m\u001b[1;33m]\u001b[0m \u001b[1;33m*\u001b[0m \u001b[0mdf\u001b[0m\u001b[1;33m[\u001b[0m\u001b[1;34m'Вес, кг.'\u001b[0m\u001b[1;33m]\u001b[0m \u001b[1;33m+\u001b[0m\u001b[1;33m\u001b[0m\u001b[1;33m\u001b[0m\u001b[0m\n",
      "\u001b[1;32mC:\\ProgramData\\Anaconda3\\lib\\site-packages\\pandas\\core\\frame.py\u001b[0m in \u001b[0;36m__getitem__\u001b[1;34m(self, key)\u001b[0m\n\u001b[0;32m   3503\u001b[0m             \u001b[1;32mif\u001b[0m \u001b[0mself\u001b[0m\u001b[1;33m.\u001b[0m\u001b[0mcolumns\u001b[0m\u001b[1;33m.\u001b[0m\u001b[0mnlevels\u001b[0m \u001b[1;33m>\u001b[0m \u001b[1;36m1\u001b[0m\u001b[1;33m:\u001b[0m\u001b[1;33m\u001b[0m\u001b[1;33m\u001b[0m\u001b[0m\n\u001b[0;32m   3504\u001b[0m                 \u001b[1;32mreturn\u001b[0m \u001b[0mself\u001b[0m\u001b[1;33m.\u001b[0m\u001b[0m_getitem_multilevel\u001b[0m\u001b[1;33m(\u001b[0m\u001b[0mkey\u001b[0m\u001b[1;33m)\u001b[0m\u001b[1;33m\u001b[0m\u001b[1;33m\u001b[0m\u001b[0m\n\u001b[1;32m-> 3505\u001b[1;33m             \u001b[0mindexer\u001b[0m \u001b[1;33m=\u001b[0m \u001b[0mself\u001b[0m\u001b[1;33m.\u001b[0m\u001b[0mcolumns\u001b[0m\u001b[1;33m.\u001b[0m\u001b[0mget_loc\u001b[0m\u001b[1;33m(\u001b[0m\u001b[0mkey\u001b[0m\u001b[1;33m)\u001b[0m\u001b[1;33m\u001b[0m\u001b[1;33m\u001b[0m\u001b[0m\n\u001b[0m\u001b[0;32m   3506\u001b[0m             \u001b[1;32mif\u001b[0m \u001b[0mis_integer\u001b[0m\u001b[1;33m(\u001b[0m\u001b[0mindexer\u001b[0m\u001b[1;33m)\u001b[0m\u001b[1;33m:\u001b[0m\u001b[1;33m\u001b[0m\u001b[1;33m\u001b[0m\u001b[0m\n\u001b[0;32m   3507\u001b[0m                 \u001b[0mindexer\u001b[0m \u001b[1;33m=\u001b[0m \u001b[1;33m[\u001b[0m\u001b[0mindexer\u001b[0m\u001b[1;33m]\u001b[0m\u001b[1;33m\u001b[0m\u001b[1;33m\u001b[0m\u001b[0m\n",
      "\u001b[1;32mC:\\ProgramData\\Anaconda3\\lib\\site-packages\\pandas\\core\\indexes\\base.py\u001b[0m in \u001b[0;36mget_loc\u001b[1;34m(self, key, method, tolerance)\u001b[0m\n\u001b[0;32m   3629\u001b[0m                 \u001b[1;32mreturn\u001b[0m \u001b[0mself\u001b[0m\u001b[1;33m.\u001b[0m\u001b[0m_engine\u001b[0m\u001b[1;33m.\u001b[0m\u001b[0mget_loc\u001b[0m\u001b[1;33m(\u001b[0m\u001b[0mcasted_key\u001b[0m\u001b[1;33m)\u001b[0m\u001b[1;33m\u001b[0m\u001b[1;33m\u001b[0m\u001b[0m\n\u001b[0;32m   3630\u001b[0m             \u001b[1;32mexcept\u001b[0m \u001b[0mKeyError\u001b[0m \u001b[1;32mas\u001b[0m \u001b[0merr\u001b[0m\u001b[1;33m:\u001b[0m\u001b[1;33m\u001b[0m\u001b[1;33m\u001b[0m\u001b[0m\n\u001b[1;32m-> 3631\u001b[1;33m                 \u001b[1;32mraise\u001b[0m \u001b[0mKeyError\u001b[0m\u001b[1;33m(\u001b[0m\u001b[0mkey\u001b[0m\u001b[1;33m)\u001b[0m \u001b[1;32mfrom\u001b[0m \u001b[0merr\u001b[0m\u001b[1;33m\u001b[0m\u001b[1;33m\u001b[0m\u001b[0m\n\u001b[0m\u001b[0;32m   3632\u001b[0m             \u001b[1;32mexcept\u001b[0m \u001b[0mTypeError\u001b[0m\u001b[1;33m:\u001b[0m\u001b[1;33m\u001b[0m\u001b[1;33m\u001b[0m\u001b[0m\n\u001b[0;32m   3633\u001b[0m                 \u001b[1;31m# If we have a listlike key, _check_indexing_error will raise\u001b[0m\u001b[1;33m\u001b[0m\u001b[1;33m\u001b[0m\u001b[0m\n",
      "\u001b[1;31mKeyError\u001b[0m: 'Вода'"
     ]
    }
   ],
   "source": [
    "import pandas as pd\n",
    "\n",
    "# Чтение данных из Excel файла\n",
    "df = pd.read_excel('себестоимостьА_в1.xlsx', sheet_name='Рецептура', index_col=0, skiprows=2)\n",
    "\n",
    "# Рассчет себестоимости для каждого вида продукции\n",
    "df['Себестоимость'] = (\n",
    "    df['Вода'] * df['Цена ресурсов, руб.'][0] * df['Вес, кг.'] +\n",
    "    df['Пшеничная мука'] * df['Цена ресурсов, руб.'][1] * df['Вес, кг.'] +\n",
    "    df['Дрожжи'] * df['Цена ресурсов, руб.'][2] * df['Вес, кг.'] +\n",
    "    df['Сахар'] * df['Цена ресурсов, руб.'][3] * df['Вес, кг.'] +\n",
    "    df['Соль'] * df['Цена ресурсов, руб.'][4] * df['Вес, кг.'] +\n",
    "    df['Куркума молотая'] * df['Цена ресурсов, руб.'][5] * df['Вес, кг.'] +\n",
    "    df['Топленное масло'] * df['Цена ресурсов, руб.'][6] * df['Вес, кг.'] +\n",
    "    df['Кунжутные семена'] * df['Цена ресурсов, руб.'][7] * df['Вес, кг.'] +\n",
    "    df['Масло оливковое'] * df['Цена ресурсов, руб.'][8] * df['Вес, кг.']\n",
    ")\n",
    "\n",
    "# Вывод рассчитанных данных\n",
    "print(df[['Наименование продукции', 'Себестоимость']])\n"
   ]
  },
  {
   "cell_type": "markdown",
   "metadata": {
    "id": "2k9LxqADJzuT"
   },
   "source": [
    "2. Результаты расчетов 1.1 сохранить в отдельном столбце области \"Пшеничный хлеб\""
   ]
  },
  {
   "cell_type": "code",
   "execution_count": null,
   "metadata": {
    "id": "YiiAB8s5MTGj"
   },
   "outputs": [],
   "source": []
  },
  {
   "cell_type": "markdown",
   "metadata": {
    "id": "LKyRGDoEJzuT"
   },
   "source": [
    "3. Приблизить форматирование столбца, добавленного в задаче 2 к оформлению всей области."
   ]
  },
  {
   "cell_type": "code",
   "execution_count": null,
   "metadata": {
    "id": "LG3nSfxDMTdK"
   },
   "outputs": [],
   "source": []
  },
  {
   "cell_type": "markdown",
   "metadata": {
    "id": "K05mCNqcJzuT"
   },
   "source": [
    "4. Выполнить 3 с помощью \"протягиваемых\" формул."
   ]
  },
  {
   "cell_type": "code",
   "execution_count": null,
   "metadata": {
    "id": "USyHHbKWMT0D"
   },
   "outputs": [],
   "source": []
  },
  {
   "cell_type": "markdown",
   "metadata": {
    "id": "Ivz4IDutJzuU"
   },
   "source": [
    "## Лабораторная работа 7.1"
   ]
  },
  {
   "cell_type": "markdown",
   "metadata": {
    "id": "5L7UsS_DJzuU"
   },
   "source": [
    "1. Загрузите данные из файлов `reviews_sample.csv` (__ЛР2__) и `recipes_sample.csv` (__ЛР5__) в виде `pd.DataFrame`. Обратите внимание на корректное считывание столбца(ов) с индексами. Оставьте в таблице с рецептами следующие столбцы: `id`, `name`, `minutes`, `submitted`, `description`, `n_ingredients`"
   ]
  },
  {
   "cell_type": "code",
   "execution_count": 21,
   "metadata": {
    "id": "EzuUsVWTMjFe"
   },
   "outputs": [],
   "source": [
    "import pandas as pd\n",
    "\n",
    "reviews_df = pd.read_csv('reviews_sample.csv', index_col=0)\n",
    "\n",
    "\n",
    "recipes_df = pd.read_csv('recipes_sample.csv', index_col='id')\n",
    "\n",
    "\n",
    "recipes_df = recipes_df[['name', 'minutes', 'submitted', 'description', 'n_ingredients']]\n"
   ]
  },
  {
   "cell_type": "markdown",
   "metadata": {
    "id": "xrLF6wHxJzuV"
   },
   "source": [
    "2. Случайным образом выберите 5% строк из каждой таблицы и сохраните две таблицы на разные листы в один файл `recipes.xlsx`. Дайте листам названия \"Рецепты\" и \"Отзывы\", соответствующие содержанию таблиц. "
   ]
  },
  {
   "cell_type": "code",
   "execution_count": 22,
   "metadata": {
    "id": "vcDYNwaRN3FV"
   },
   "outputs": [],
   "source": [
    "recipes_df = pd.read_csv('recipes_sample.csv', index_col='id')\n",
    "reviews_df = pd.read_csv('reviews_sample.csv', index_col=0)\n",
    "\n",
    "# выбираем случайные 5% строк из каждой таблицы\n",
    "recipes_sample = recipes_df.sample(frac=0.05)\n",
    "reviews_sample = reviews_df.sample(frac=0.05)\n",
    "\n",
    "with pd.ExcelWriter('recipes.xlsx') as writer:\n",
    "    recipes_sample.to_excel(writer, sheet_name='Рецепты')\n",
    "    reviews_sample.to_excel(writer, sheet_name='Отзывы')"
   ]
  },
  {
   "cell_type": "markdown",
   "metadata": {
    "id": "XPZq3VWHJzuV"
   },
   "source": [
    "3. Используя `xlwings`, добавьте на лист `Рецепты` столбец `seconds_assign`, показывающий время выполнения рецепта в секундах. Выполните задание при помощи присваивания массива значений диапазону ячеек."
   ]
  },
  {
   "cell_type": "code",
   "execution_count": 23,
   "metadata": {
    "colab": {
     "base_uri": "https://localhost:8080/",
     "height": 380
    },
    "id": "l4SBfAoxPlkT",
    "outputId": "ba431c88-0f89-4145-f4c4-805f092d52da"
   },
   "outputs": [],
   "source": [
    "df = pd.read_excel('recipes.xlsx', sheet_name='Рецепты')\n",
    "\n",
    "# добавляем столбец со временем выполнения рецепта в секундах\n",
    "df['seconds_assign'] = df['minutes'] * 60\n",
    "\n",
    "wb = xw.Book('recipes.xlsx')\n",
    "sheet = wb.sheets['Рецепты']\n",
    "\n",
    "# устанавливаем заголовок для столбца\n",
    "sheet.range('I1').value = 'seconds_assign'\n",
    "\n",
    "# присваиваем массив значений диапазону ячеек столбца\n",
    "sheet.range('I2').value = df['seconds_assign'].values.reshape(-1, 1)\n",
    "\n",
    "wb.save()\n",
    "wb.close()"
   ]
  },
  {
   "cell_type": "markdown",
   "metadata": {
    "id": "IKmED6zUJzuV"
   },
   "source": [
    "4. Используя `xlwings`, добавьте на лист `Рецепты` столбец `seconds_formula`, показывающий время выполнения рецепта в секундах. Выполните задание при помощи формул Excel."
   ]
  },
  {
   "cell_type": "code",
   "execution_count": 30,
   "metadata": {},
   "outputs": [],
   "source": [
    "import xlwings as xw\n",
    "\n",
    "\n",
    "wb = xw.Book('recipes.xlsx')\n",
    "sheet = wb.sheets['Рецепты']\n",
    "\n",
    "sheet.range('J1').value = 'seconds_formula'\n",
    "sheet.range('J2').formula = '=C2*60'\n",
    "\n",
    "last_row = sheet.range('B' + str(sheet.cells.last_cell.row)).end('up').row\n",
    "sheet.range('J2:J' + str(last_row)).formula = '=C2*60'\n",
    "\n",
    "wb.save()\n",
    "wb.close()"
   ]
  },
  {
   "cell_type": "markdown",
   "metadata": {
    "id": "9btoqmIrJzuW"
   },
   "source": [
    "5. Сделайте названия всех добавленных столбцов полужирными и выровняйте по центру ячейки."
   ]
  },
  {
   "cell_type": "code",
   "execution_count": 24,
   "metadata": {},
   "outputs": [],
   "source": [
    "wb = xw.Book('recipes.xlsx')\n",
    "sheet = wb.sheets['Рецепты']\n",
    "\n",
    "# получаем диапазон для заголовков столбцов\n",
    "header_range = sheet.range('I1:J1')\n",
    "\n",
    "# устанавливаем стиль для заголовков столбцов\n",
    "header_range.api.Font.Bold = True\n",
    "header_range.api.HorizontalAlignment = 2\n",
    "\n",
    "wb.save()\n",
    "wb.close()"
   ]
  },
  {
   "cell_type": "markdown",
   "metadata": {
    "id": "hYgcc-NuJzuW"
   },
   "source": [
    "6. Раскрасьте ячейки столбца `minutes` в соответствии со следующим правилом: если рецепт выполняется быстрее 5 минут, то цвет - зеленый; от 5 до 10 минут - жёлтый; и больше 10 - красный."
   ]
  },
  {
   "cell_type": "code",
   "execution_count": 25,
   "metadata": {},
   "outputs": [],
   "source": [
    "wb = xw.Book('recipes.xlsx')\n",
    "ws = wb.sheets['Рецепты']\n",
    "\n",
    "# Задаем диапазон столбца minutes\n",
    "minutes_range = ws.range('C2:C1501')\n",
    "\n",
    "# Цикл для раскраски ячеек в соответствии с условиями\n",
    "for cell in minutes_range:\n",
    "    if cell.value < 5:\n",
    "        cell.color = (146, 208, 80)  # зеленый\n",
    "    elif 5 <= cell.value < 10:\n",
    "        cell.color = (255, 255, 0)  # желтый\n",
    "    else:\n",
    "        cell.color = (255, 0, 0)  # красный"
   ]
  },
  {
   "cell_type": "markdown",
   "metadata": {
    "id": "1jZebRgEJzuW"
   },
   "source": [
    "7. Добавьте на лист `Рецепты`  столбец `n_reviews`, содержащий кол-во отзывов для этого рецепта. Выполните задание при помощи формул Excel."
   ]
  },
  {
   "cell_type": "code",
   "execution_count": 40,
   "metadata": {},
   "outputs": [],
   "source": [
    "wb = xw.Book('recipes.xlsx')\n",
    "sheet = wb.sheets['Рецепты']\n",
    "# Добавляем столбец n_reviews\n",
    "sheet.range('K1').value = 'n_reviews'\n",
    "sheet.range('K2:K{}'.format(sheet.range('A1').current_region.last_cell.row)).formula = '=COUNTIFS(Отзывы!A:A, Рецепты!A2)'\n",
    "\n",
    "# устанавливаем стиль для заголовков столбцов\n",
    "header_range = sheet.range('K1')\n",
    "header_range.api.Font.Bold = True\n",
    "header_range.api.HorizontalAlignment = 2\n",
    "\n",
    "wb.save()\n",
    "wb.close()\n",
    "\n"
   ]
  },
  {
   "cell_type": "markdown",
   "metadata": {
    "id": "zEx-U8woJzuX"
   },
   "source": [
    "## Лабораторная работа 7.2"
   ]
  },
  {
   "cell_type": "markdown",
   "metadata": {
    "id": "EbztA6D1JzuX"
   },
   "source": [
    "8. Напишите функцию `validate()`, которая проверяет соответствие всех строк из листа `Отзывы` следующим правилам:\n",
    "    * Рейтинг - это число от 0 до 5 включительно\n",
    "    * Соответствующий рецепт имеется на листе `Рецепты`\n",
    "    \n",
    "В случае несоответствия этим правилам, выделите строку красным цветом"
   ]
  },
  {
   "cell_type": "code",
   "execution_count": null,
   "metadata": {},
   "outputs": [],
   "source": [
    "import xlwings as xw\n",
    "\n",
    "def validate():\n",
    "    \n",
    "    wb = xw.Book('recipes.xlsx')\n",
    "    \n",
    "\n",
    "    recipes_sheet = wb.sheets['Рецепты']\n",
    "    reviews_sheet = wb.sheets['Отзывы']\n",
    "    \n",
    "\n",
    "    last_recipe_row = recipes_sheet.range('A' + str(recipes_sheet.cells.last_cell.row)).end('up').row\n",
    "    last_review_row = reviews_sheet.range('A' + str(reviews_sheet.cells.last_cell.row)).end('up').row\n",
    "    \n",
    "    \n",
    "    reviews_sheet.range('A2:E' + str(last_review_row)).color_index = None\n",
    "    \n",
    "\n",
    "    for i in range(2, last_review_row + 1):\n",
    "        rating = reviews_sheet.range('C' + str(i)).value\n",
    "        recipe_id = reviews_sheet.range('B' + str(i)).value\n",
    "        \n",
    "    \n",
    "        if rating is None or not (0 <= rating <= 5):\n",
    "            reviews_sheet.range('E' + str(i)).color_index = 3\n",
    "        \n",
    "    \n",
    "        recipe_found = False\n",
    "        for j in range(2, last_recipe_row + 1):\n",
    "            if recipes_sheet.range('A' + str(j)).value == recipe_id:\n",
    "                recipe_found = True\n",
    "                break\n",
    "        if not recipe_found:\n",
    "            reviews_sheet.range('B' + str(i)).color_index = 3\n",
    "            reviews_sheet.range('C' + str(i)).color_index = 3\n",
    "            \n",
    "   \n",
    "    wb.save()\n",
    "    wb.close()"
   ]
  },
  {
   "cell_type": "markdown",
   "metadata": {
    "id": "pC2Uz45oJzuX"
   },
   "source": [
    "9. В файле `recipes_model.csv` находится модель данных предметной области \"рецепты\". При помощи пакета `csv` считайте эти данные. При помощи пакета `xlwings` запишите данные на лист `Модель` книги `recipes_model.xlsx`, начиная с ячейки `A2`, не используя циклы. Сделайте скриншот текущего состояния листа и прикрепите в ячейку ноутбука. "
   ]
  },
  {
   "cell_type": "code",
   "execution_count": 65,
   "metadata": {
    "scrolled": true
   },
   "outputs": [],
   "source": [
    "import xlwings as xw\n",
    "import csv\n",
    "\n",
    "filename = 'recipes_model.xlsx'\n",
    "\n",
    "if not xw.Book(filename).sheets:\n",
    "    # создание новой книги\n",
    "    wb = xw.Book()\n",
    "    wb.sheets.add(name='Модель')\n",
    "    wb.save(filename)\n",
    "    wb.close()\n",
    "\n",
    "with open('recipes_model.csv', 'r', encoding='utf-8') as file:\n",
    "    reader = csv.reader(file)\n",
    "    data = list(reader)\n",
    "\n",
    "wb = xw.Book(filename)\n",
    "sheet = wb.sheets['Модель']\n",
    "\n",
    "sheet.clear()\n",
    "\n",
    "\n",
    "sheet.range('A1').value = ['Название столбца', 'Тип данных', 'Обязательно к заполнению', 'Ключ', 'Описание']\n",
    "\n",
    "\n",
    "for row_idx, row in enumerate(data):\n",
    "    sheet.range(f'A{row_idx+2}').value = row\n",
    "\n",
    "sheet.range('A1:E1').color = (0, 128, 128)\n",
    "sheet.range('A1:E1').api.Font.Bold = True\n",
    "sheet.autofit()\n",
    "\n",
    "wb.save()\n",
    "wb.close()\n"
   ]
  },
  {
   "cell_type": "markdown",
   "metadata": {
    "id": "ICFIQqZcJzuX"
   },
   "source": [
    "10. При помощи пакета `xlwings` добавьте в столбец J формулу для описания столбца на языке SQL. Формула должна реализовывать следующую логику:\n",
    "\n",
    "    1\\. в начале строки идут значения из столбцов В и C (значение столбца С приведено к верхнему регистру), разделенные пробелом\n",
    "    \n",
    "    2\\. далее идут слова на основе столбца \"Ключ\"\n",
    "        2.1 если в столбце \"Ключ\" указано значение \"PK\", то дальше через пробел идет ключевое слово \"PRIMARY KEY\"\n",
    "        2.2 если в столбце \"Ключ\" указано значение \"FK\", то дальше через пробел идет ключевое слово \"REFERENCES\", затем значения столбцов H и I в формате \"название_таблицы(название_столбца)\"\n",
    "        \n",
    "    3\\. если в столбце \"Обязательно к заполнению\" указано значение \"Y\" и в столбце \"Ключ\" указано не \"PK\", то дальше через пробел идет ключевое слово \"NOT NULL\".\n",
    "\n",
    "Заполните этой формулой необходимое количество строк, используя \"протягивание\". Количество строк для протягивания определите на основе данных.\n",
    "\n",
    "Сделайте скриншот текущего состояния листа и прикрепите в ячейку ноутбука."
   ]
  },
  {
   "cell_type": "code",
   "execution_count": null,
   "metadata": {},
   "outputs": [],
   "source": [
    "import xlwings as xw\n",
    "\n",
    "wb = xw.Book('recipes_model.xlsx')\n",
    "ws = wb.sheets['Модель']\n",
    "num_rows = ws.range('B:B').end('down').row - 1\n",
    "formula = f'=B2 & \" \" & UPPER(C2) & IF(D2=\"PK\", \" PRIMARY KEY\", IF(D2=\"FK\", \" REFERENCES \" & H2 & \"(\" & I2 & \")\", IF(D2<>\"PK\" & F2=\"Y\", \" NOT NULL\", \"\")))'\n",
    "ws.range('J2').value = formula\n",
    "ws.range(f'J2:J{num_rows+1}').api.AutoFill(ws.range(f'J2:J{num_rows+1}').api, 0)\n",
    "wb.save()\n",
    "wb.close()\n"
   ]
  },
  {
   "cell_type": "markdown",
   "metadata": {},
   "source": [
    "11. При помощи пакета `xlwings` измените стилизацию листа `Модель`.\n",
    "* для заголовков добавьте заливку цвета `00ccff`\n",
    "* примените автоподбор ширины столбца;\n",
    "* сделайте шрифт заголовков полужирным;\n",
    "* добавьте таблице автофильтр.\n",
    "\n",
    "Сделайте скриншот текущего состояния листа и прикрепите в ячейку ноутбука."
   ]
  },
  {
   "cell_type": "code",
   "execution_count": null,
   "metadata": {},
   "outputs": [],
   "source": [
    "import xlwings as xw\n",
    "\n",
    "\n",
    "wb = xw.Book(\"recipes_model.xlsx\")\n",
    "sheet = wb.sheets[\"Модель\"]\n",
    "\n",
    "\n",
    "header_style = xw.Style(\n",
    "    fill=xw.PatternFill(pattern=\"Solid\", fgColor=\"00ccff\"),\n",
    "    font=xw.Font(bold=True)\n",
    ")\n",
    "\n",
    "\n",
    "header_range = sheet.range(\"A1:J1\")\n",
    "header_range.style = header_style\n",
    "header_range.autofit()\n",
    "\n",
    "\n",
    "table_range = sheet.range(\"A1:J20\")  \n",
    "table_range.api.AutoFilter()  \n",
    "\n",
    "\n",
    "wb.save()\n",
    "wb.close()\n"
   ]
  },
  {
   "cell_type": "markdown",
   "metadata": {
    "id": "OTtRQhUbJzuY"
   },
   "source": [
    "12. Посчитайте количество атрибутов для каждой из сущностей. Создайте лист `Статистика` и запишите в него результат группировки, начиная с ячейки \"А1\". Визуализируйте полученный результат при помощи столбчатой диаграммы. Сохраните полученную визуализацию на лист `Статистика`, начиная с ячейки \"E2\".  Сделайте скриншот листа `Статистика` и прикрепите в ячейку ноутбука.\n",
    "\n",
    "* Вы можете воспользоваться методами для визуализации, которые поставляются вместе с объектами `pandas` (см. https://pandas.pydata.org/docs/reference/api/pandas.DataFrame.plot) "
   ]
  },
  {
   "cell_type": "code",
   "execution_count": null,
   "metadata": {},
   "outputs": [],
   "source": []
  }
 ],
 "metadata": {
  "colab": {
   "provenance": [],
   "toc_visible": true
  },
  "kernelspec": {
   "display_name": "Python 3 (ipykernel)",
   "language": "python",
   "name": "python3"
  },
  "language_info": {
   "codemirror_mode": {
    "name": "ipython",
    "version": 3
   },
   "file_extension": ".py",
   "mimetype": "text/x-python",
   "name": "python",
   "nbconvert_exporter": "python",
   "pygments_lexer": "ipython3",
   "version": "3.9.13"
  }
 },
 "nbformat": 4,
 "nbformat_minor": 1
}
